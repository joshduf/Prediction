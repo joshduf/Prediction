{
 "cells": [
  {
   "cell_type": "code",
   "execution_count": 1,
   "metadata": {},
   "outputs": [],
   "source": [
    "%load_ext autoreload\n",
    "%autoreload 2"
   ]
  },
  {
   "cell_type": "code",
   "execution_count": 2,
   "metadata": {},
   "outputs": [
    {
     "name": "stderr",
     "output_type": "stream",
     "text": [
      "Using TensorFlow backend.\n"
     ]
    }
   ],
   "source": [
    "import csv\n",
    "import dask.dataframe as dd\n",
    "from dateutil import parser\n",
    "import pickle\n",
    "import processData"
   ]
  },
  {
   "cell_type": "code",
   "execution_count": null,
   "metadata": {},
   "outputs": [],
   "source": [
    "import sys\n",
    "sys.path.insert(0, \"../\")\n",
    "sys.path.insert(0, \"../scripts/\")"
   ]
  },
  {
   "cell_type": "code",
   "execution_count": 3,
   "metadata": {},
   "outputs": [],
   "source": [
    "def try_parse(text):\n",
    "    try:\n",
    "        parsed = parser.parse(text)\n",
    "        \n",
    "        return parsed\n",
    "\n",
    "    except:\n",
    "\n",
    "        return \"nan\""
   ]
  },
  {
   "cell_type": "code",
   "execution_count": 4,
   "metadata": {},
   "outputs": [],
   "source": [
    "def createTimeDict():\n",
    "    TIME_PATH = \"./time/*.tsv\"\n",
    "    TIME_SAVE = \"id_date.pickle\"\n",
    "    \n",
    "    df = dd.read_csv(TIME_PATH, delimiter='\\t', error_bad_lines=False, header=None, names=['ID', 'Date'],\n",
    "                     encoding='utf8', quoting=csv.QUOTE_NONE)\n",
    "    pdf = df.compute(error_bad_lines=False, warn_bad_lines=True)\n",
    "    pdf['Date'] = pdf['Date'].apply(try_parse)\n",
    "    pdf_dict = pdf.set_index('ID').to_dict()['Date']\n",
    "    \n",
    "    with open(TIME_SAVE, 'wb') as savefile:\n",
    "        pickle.dump(pdf_dict, savefile, pickle.HIGHEST_PROTOCOL)"
   ]
  },
  {
   "cell_type": "code",
   "execution_count": 52,
   "metadata": {},
   "outputs": [],
   "source": [
    "def createCombined(id_ht, id_ht_pred, id_datetime, id_phone):\n",
    "    ID_INDEX = 0\n",
    "    LONG_INDEX = -1\n",
    "    LAT_INDEX = -2\n",
    "    STATE_INDEX = -5\n",
    "    CITY_INDEX = -6\n",
    "\n",
    "    IN_PATH = \"2016_2017_df.csv\"\n",
    "    OUT_PATH = \"2016_2017_combined.csv\"\n",
    "\n",
    "    with open(IN_PATH, 'r') as datafile, open(OUT_PATH, 'w') as outfile:\n",
    "        reader = csv.reader(datafile, delimiter=',')\n",
    "        next(reader)\n",
    "\n",
    "        writer = csv.writer(outfile, delimiter=',')\n",
    "        outline = [\"doc\", \"phone\", \"ht\", \"ht_pred\", \"year\", \"datetime\", \"month\", \"day\", \"city\", \"state\", \"lat\", \"long\"]\n",
    "        writer.writerow(outline)\n",
    "            \n",
    "        for line in reader:                \n",
    "            doc = line[ID_INDEX].strip()\n",
    "            long = line[LONG_INDEX].strip()\n",
    "            lat = line[LAT_INDEX].strip()\n",
    "            state = line[STATE_INDEX].strip()\n",
    "            city = line[CITY_INDEX].strip()\n",
    "            \n",
    "            ht = id_ht.get(doc, \"nan\")\n",
    "            ht_pred = id_ht_pred.get(doc, \"nan\")\n",
    "            datetime = id_datetime.get(doc, \"nan\")\n",
    "            phone = id_phone.get(doc, \"nan\")\n",
    "\n",
    "            if datetime == \"nan\":\n",
    "                year = \"nan\"\n",
    "                month = \"nan\"\n",
    "                day = \"nan\"\n",
    "            else:\n",
    "                year = datetime.year\n",
    "                month = datetime.month\n",
    "                day = datetime.day\n",
    "\n",
    "            outline = [doc, phone, ht, ht_pred, datetime, year, month, day, city, state, lat, long]\n",
    "\n",
    "            writer.writerow(outline)"
   ]
  },
  {
   "cell_type": "code",
   "execution_count": 6,
   "metadata": {},
   "outputs": [],
   "source": [
    "#id_ht = processData.createDedupe(DEDUPE_PATHS = [\"2016_predictions.csv\", \"2017_predictions.csv\"],\n",
    "#                                 ID_INDEX=0, DEDUPE_INDEX=1, DEDUPE_SAVE = \"2016_2017_id_ht.pickle\")"
   ]
  },
  {
   "cell_type": "code",
   "execution_count": 7,
   "metadata": {},
   "outputs": [],
   "source": [
    "#id_ht_pred = processData.createDedupe(DEDUPE_PATHS = [\"2016_predictions.csv\", \"2017_predictions.csv\"],\n",
    "#                                      ID_INDEX=0, DEDUPE_INDEX=2, DEDUPE_SAVE = \"2016_2017_id_ht_pred.pickle\")"
   ]
  },
  {
   "cell_type": "code",
   "execution_count": 8,
   "metadata": {},
   "outputs": [],
   "source": [
    "#createTimeDict()"
   ]
  },
  {
   "cell_type": "code",
   "execution_count": 9,
   "metadata": {},
   "outputs": [],
   "source": [
    "id_ht = processData.getDedupe(PATH = \"2016_2017_id_ht.pickle\")"
   ]
  },
  {
   "cell_type": "code",
   "execution_count": 10,
   "metadata": {},
   "outputs": [],
   "source": [
    "id_ht_pred = processData.getDedupe(PATH = \"2016_2017_id_ht_pred.pickle\")"
   ]
  },
  {
   "cell_type": "code",
   "execution_count": 11,
   "metadata": {},
   "outputs": [],
   "source": [
    "id_datetime = processData.getDedupe(PATH = \"2016_2017_id_date.pickle\")"
   ]
  },
  {
   "cell_type": "code",
   "execution_count": 12,
   "metadata": {},
   "outputs": [],
   "source": [
    "id_phone = processData.getDedupe(PATH = \"2016_2017_dedupe.pickle\")"
   ]
  },
  {
   "cell_type": "code",
   "execution_count": 53,
   "metadata": {},
   "outputs": [],
   "source": [
    "createCombined(id_ht, id_ht_pred, id_datetime, id_phone)"
   ]
  },
  {
   "cell_type": "code",
   "execution_count": null,
   "metadata": {},
   "outputs": [],
   "source": []
  }
 ],
 "metadata": {
  "kernelspec": {
   "display_name": "TensorFlow-GPU",
   "language": "python",
   "name": "tf-gpu"
  },
  "language_info": {
   "codemirror_mode": {
    "name": "ipython",
    "version": 3
   },
   "file_extension": ".py",
   "mimetype": "text/x-python",
   "name": "python",
   "nbconvert_exporter": "python",
   "pygments_lexer": "ipython3",
   "version": "3.6.8"
  }
 },
 "nbformat": 4,
 "nbformat_minor": 2
}
