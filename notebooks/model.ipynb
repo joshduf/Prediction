{
 "cells": [
  {
   "cell_type": "code",
   "execution_count": 1,
   "metadata": {},
   "outputs": [],
   "source": [
    "%load_ext autoreload\n",
    "%autoreload 2"
   ]
  },
  {
   "cell_type": "code",
   "execution_count": 31,
   "metadata": {},
   "outputs": [],
   "source": [
    "import sys\n",
    "sys.path.insert(0, \"../\")\n",
    "sys.path.insert(0, \"../scripts/\")\n",
    "\n",
    "import numpy as np\n",
    "import processData"
   ]
  },
  {
   "cell_type": "code",
   "execution_count": 3,
   "metadata": {},
   "outputs": [],
   "source": [
    "#dedupe_dict = processData.createDedupe(DEDUPE_PATHS = [\"2016_2017_df.csv\"], ID_INDEX=0, DEDUPE_INDEX=9)"
   ]
  },
  {
   "cell_type": "code",
   "execution_count": 4,
   "metadata": {},
   "outputs": [],
   "source": [
    "dedupe_dict = processData.getDedupe(PATH = \"../pickles/2016_2017_dedupe.pickle\")"
   ]
  },
  {
   "cell_type": "code",
   "execution_count": 5,
   "metadata": {},
   "outputs": [],
   "source": [
    "y_2016 = np.load(\"../model/2016_y.npy\")\n",
    "y_2017 = np.load(\"../model/2017_y.npy\")"
   ]
  },
  {
   "cell_type": "code",
   "execution_count": 6,
   "metadata": {},
   "outputs": [
    {
     "name": "stdout",
     "output_type": "stream",
     "text": [
      "689648\n",
      "33108355\n",
      "689648\n",
      "1379296\n",
      "1\n",
      "0.041660058314585545\n",
      "Unique positives: 7170\n",
      "Unique negatives: 1277380\n",
      "Total processed: 33798003\n",
      "Pos size: 636381\n",
      "Neg size: 1257868\n",
      "Train size: 1708371\n",
      "Valid size: 97854\n",
      "Test size: 88024\n"
     ]
    }
   ],
   "source": [
    "SAMPLE = 1\n",
    "NEG_SCALE = 2\n",
    "SIZE_POS = np.sum(y_2016) + np.sum(y_2017)\n",
    "SIZE_NEG = y_2016.shape[0] + y_2017.shape[0] - SIZE_POS\n",
    "\n",
    "NUM_POS = int(SIZE_POS*SAMPLE)\n",
    "NUM_NEG = int(NUM_POS*NEG_SCALE)\n",
    "\n",
    "PROB_POS = SAMPLE\n",
    "PROB_NEG = NUM_NEG/float(SIZE_NEG)\n",
    "\n",
    "print(SIZE_POS)\n",
    "print(SIZE_NEG)\n",
    "print(NUM_POS)\n",
    "print(NUM_NEG)\n",
    "print(PROB_POS)\n",
    "print(PROB_NEG)\n",
    "\n",
    "(x_train, y_train), (x_valid, y_valid), (x_test, y_test) = processData.readDataDedupe(PATHS = [\"../csvs/2016_partial_ht_content.csv\",\n",
    "                                                                                               \"../csvs/2017_partial_ht_content.csv\"],\n",
    "                                                                                      ID_INDEX = 0, TEXT_INDEX = 1,\n",
    "                                                                                      Y_INDEX = 2, TRAIN_SPLIT = 0.9,\n",
    "                                                                                      NUM_POS = NUM_POS,\n",
    "                                                                                      NUM_NEG = NUM_NEG,\n",
    "                                                                                      MAX_FIELD = 2000,\n",
    "                                                                                      PROB_POS = PROB_POS,\n",
    "                                                                                      PROB_NEG = PROB_NEG,\n",
    "                                                                                      dedupe_dict = dedupe_dict)"
   ]
  },
  {
   "cell_type": "code",
   "execution_count": 7,
   "metadata": {},
   "outputs": [],
   "source": [
    "#MAX_EXAMPLES = np.sum(np.load(\"2017_y.npy\"))\n",
    "\n",
    "#x_valid = np.concatenate((x_valid, x_test), axis=0)\n",
    "#y_valid = np.concatenate((y_valid, y_test))\n",
    "\n",
    "#(x_test, y_test) = processData.readData(PATHS = [\"2017_partial_ht_content.csv\"], ID_INDEX = 0, TEXT_INDEX = 1, Y_INDEX = 2,\n",
    "#                                        MAX_EXAMPLES = MAX_EXAMPLES, MAX_FIELD = 2000)"
   ]
  },
  {
   "cell_type": "code",
   "execution_count": 8,
   "metadata": {},
   "outputs": [],
   "source": [
    "model = processData.createModel(x_train, x_valid, x_test)"
   ]
  },
  {
   "cell_type": "code",
   "execution_count": 9,
   "metadata": {},
   "outputs": [
    {
     "name": "stdout",
     "output_type": "stream",
     "text": [
      "Train on 1708371 samples, validate on 97854 samples\n",
      "Epoch 1/3\n",
      "1708371/1708371 [==============================] - 1125s 658us/step - loss: 0.5398 - acc: 0.7760 - val_loss: 0.5940 - val_acc: 0.7111\n",
      "Epoch 2/3\n",
      "1708371/1708371 [==============================] - 1118s 654us/step - loss: 0.5032 - acc: 0.7848 - val_loss: 0.6316 - val_acc: 0.6710\n",
      "Epoch 3/3\n",
      "1708371/1708371 [==============================] - 1107s 648us/step - loss: 0.4997 - acc: 0.7854 - val_loss: 0.5549 - val_acc: 0.7317\n",
      "88024/88024 [==============================] - 13s 152us/step\n"
     ]
    }
   ],
   "source": [
    "model, history, score, acc = processData.runModel(model, x_train, y_train, x_valid, y_valid, x_test, y_test,\n",
    "                                                  save_name=\"../model/2016_2017_model.h5\")"
   ]
  },
  {
   "cell_type": "code",
   "execution_count": 10,
   "metadata": {},
   "outputs": [
    {
     "name": "stdout",
     "output_type": "stream",
     "text": [
      "History:  {'val_loss': [0.5939732276366612, 0.6315955298968348, 0.5548557703329151], 'val_acc': [0.711141087738091, 0.6710098718547718, 0.7316921127430419], 'loss': [0.5397662187047493, 0.5031755372177142, 0.4997169026893299], 'acc': [0.7759690371708116, 0.7848488413817135, 0.7854453160347039]}\n",
      "Test lost: 0.5228568724824073\n",
      "Test accuracy: 0.7427633372662361\n"
     ]
    }
   ],
   "source": [
    "print('History: ', history.history)\n",
    "print('Test lost:', score)\n",
    "print('Test accuracy:', acc)"
   ]
  },
  {
   "cell_type": "code",
   "execution_count": 27,
   "metadata": {},
   "outputs": [
    {
     "data": {
      "image/png": "[encoded data removed]",
      "text/plain": [
       "<Figure size 432x288 with 1 Axes>"
      ]
     },
     "metadata": {
      "needs_background": "light"
     },
     "output_type": "display_data"
    }
   ],
   "source": [
    "processData.getPlot(history, save_name = \"../model/2016_2017_model_accuracy.png\")"
   ]
  },
  {
   "cell_type": "code",
   "execution_count": 12,
   "metadata": {},
   "outputs": [],
   "source": [
    "y_pred = model.predict(x_test)"
   ]
  },
  {
   "cell_type": "code",
   "execution_count": 13,
   "metadata": {},
   "outputs": [],
   "source": [
    "cm, precision, recall, f1 = processData.getConfusion(y_test, y_pred, val = 0.5)"
   ]
  },
  {
   "cell_type": "code",
   "execution_count": 14,
   "metadata": {},
   "outputs": [
    {
     "name": "stdout",
     "output_type": "stream",
     "text": [
      "Confusion matrix:\n",
      "[[61526  1340]\n",
      " [21303  3855]]\n",
      "\n",
      "Precision: 0.7420596727622714\n",
      "Recall: 0.15323157643691868\n",
      "F1: 0.127005567818667\n"
     ]
    }
   ],
   "source": [
    "print(\"Confusion matrix:\")\n",
    "print(cm)\n",
    "print()\n",
    "print(\"Precision: \" + str(precision))\n",
    "print(\"Recall: \" + str(recall))\n",
    "print(\"F1: \" + str(f1))"
   ]
  },
  {
   "cell_type": "code",
   "execution_count": 15,
   "metadata": {},
   "outputs": [],
   "source": [
    "y_pred = model.predict(x_train)"
   ]
  },
  {
   "cell_type": "code",
   "execution_count": 16,
   "metadata": {},
   "outputs": [],
   "source": [
    "cm, precision, recall, f1 = processData.getConfusion(y_train, y_pred, val = 0.5)"
   ]
  },
  {
   "cell_type": "code",
   "execution_count": 17,
   "metadata": {},
   "outputs": [
    {
     "name": "stdout",
     "output_type": "stream",
     "text": [
      "Confusion matrix:\n",
      "[[1107423   24812]\n",
      " [ 424207  151929]]\n",
      "\n",
      "Precision: 0.8596137851432322\n",
      "Recall: 0.2637033617062638\n",
      "F1: 0.20179790324315922\n"
     ]
    }
   ],
   "source": [
    "print(\"Confusion matrix:\")\n",
    "print(cm)\n",
    "print()\n",
    "print(\"Precision: \" + str(precision))\n",
    "print(\"Recall: \" + str(recall))\n",
    "print(\"F1: \" + str(f1))"
   ]
  },
  {
   "cell_type": "code",
   "execution_count": 18,
   "metadata": {},
   "outputs": [],
   "source": [
    "x_all = np.concatenate((x_train, x_valid), axis=0)\n",
    "x_all = np.concatenate((x_all, x_test), axis=0)"
   ]
  },
  {
   "cell_type": "code",
   "execution_count": 19,
   "metadata": {},
   "outputs": [],
   "source": [
    "y_pred = model.predict(x_all)"
   ]
  },
  {
   "cell_type": "code",
   "execution_count": 20,
   "metadata": {},
   "outputs": [],
   "source": [
    "y_all = np.concatenate((y_train, y_valid))\n",
    "y_all = np.concatenate((y_all, y_test))"
   ]
  },
  {
   "cell_type": "code",
   "execution_count": 21,
   "metadata": {},
   "outputs": [],
   "source": [
    "cm, precision, recall, f1 = processData.getConfusion(y_all, y_pred, val = 0.5)"
   ]
  },
  {
   "cell_type": "code",
   "execution_count": 22,
   "metadata": {},
   "outputs": [
    {
     "name": "stdout",
     "output_type": "stream",
     "text": [
      "Confusion matrix:\n",
      "[[1230313   27555]\n",
      " [ 470362  166019]]\n",
      "\n",
      "Precision: 0.8576513374730077\n",
      "Recall: 0.2608798817060849\n",
      "F1: 0.20003373676886096\n"
     ]
    }
   ],
   "source": [
    "print(\"Confusion matrix:\")\n",
    "print(cm)\n",
    "print()\n",
    "print(\"Precision: \" + str(precision))\n",
    "print(\"Recall: \" + str(recall))\n",
    "print(\"F1: \" + str(f1))"
   ]
  },
  {
   "cell_type": "code",
   "execution_count": 26,
   "metadata": {},
   "outputs": [],
   "source": [
    "y_train_pred = model.predict(x_train)\n",
    "y_valid_pred = model.predict(x_valid)\n",
    "y_test_pred = model.predict(x_test)"
   ]
  },
  {
   "cell_type": "code",
   "execution_count": 29,
   "metadata": {},
   "outputs": [],
   "source": [
    "y_train_path = \"../model/2016_2017_model_y_train.npy\"\n",
    "y_train_pred_path = \"../model/2016_2017_model_y_train_pred.npy\"\n",
    "\n",
    "y_valid_path = \"../model/2016_2017_model_y_valid.npy\"\n",
    "y_valid_pred_path = \"../model/2016_2017_model_y_valid_pred.npy\"\n",
    "\n",
    "y_test_path = \"../model/2016_2017_model_y_test.npy\"\n",
    "y_test_pred_path = \"../model/2016_2017_model_y_test_pred.npy\"\n",
    "\n",
    "np.save(y_train_path, y_train)\n",
    "np.save(y_train_pred_path, y_train_pred)\n",
    "\n",
    "np.save(y_valid_path, y_valid)\n",
    "np.save(y_valid_pred_path, y_valid_pred)\n",
    "\n",
    "np.save(y_test_path, y_test)\n",
    "np.save(y_test_pred_path, y_test_pred)\n"
   ]
  },
  {
   "cell_type": "code",
   "execution_count": null,
   "metadata": {},
   "outputs": [],
   "source": []
  }
 ],
 "metadata": {
  "kernelspec": {
   "display_name": "TensorFlow-GPU",
   "language": "python",
   "name": "tf-gpu"
  },
  "language_info": {
   "codemirror_mode": {
    "name": "ipython",
    "version": 3
   },
   "file_extension": ".py",
   "mimetype": "text/x-python",
   "name": "python",
   "nbconvert_exporter": "python",
   "pygments_lexer": "ipython3",
   "version": "3.6.8"
  }
 },
 "nbformat": 4,
 "nbformat_minor": 2
}
